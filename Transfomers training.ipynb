{
 "cells": [
  {
   "cell_type": "markdown",
   "id": "1a62d887-01aa-4980-9220-3bf28c077504",
   "metadata": {},
   "source": [
    "### Домашнее задание Transformers Training (50 баллов)"
   ]
  },
  {
   "cell_type": "markdown",
   "id": "f31d7452-febe-4d25-a9c1-005fcc26b35b",
   "metadata": {},
   "source": [
    "В этом домашнем задании требуется обучить несколько Transformer-based моделей в задаче машинного перевода. Для обучения можно воспользоваться текущим проектом, так и реализовать свой пайплайн обучения. Если будете использовать проект, теги **TODO** проекта отмечают, какие компоненты надо реализовать.\n",
    "В ноутбуке нужно только отобразить результаты обучения и выводы. Архитектура модели(количетсво слоев, размерность и тд) остается на ваш выбор.\n",
    "\n",
    "Ваш код обучения нужно выложить на ваш github, в строке ниже дать ссылку на него. В первую очередь будут оцениваться результаты в ноутбуке, код нужен для проверки адекватности результатов. \n",
    "\n",
    "Обучать модели до конца не нужно, только для демонстрации, что модель обучается и рабочая - снижение val_loss, рост bleu_score."
   ]
  },
  {
   "cell_type": "markdown",
   "id": "a691e7b9-6538-42b1-96b8-838f2efab4af",
   "metadata": {},
   "source": [
    "#### Сcылка на github с проектом - \n",
    "\n",
    "Ноутбук с результатами выкладывать на ваш **google диск** курса. "
   ]
  },
  {
   "cell_type": "markdown",
   "id": "dbca1e62-b210-4426-9854-55b652417a4b",
   "metadata": {},
   "source": [
    "### Данные\n",
    "\n",
    "`\n",
    "wget https://www.manythings.org/anki/rus-eng.zip && unzip rus-eng.zip\n",
    "`\n",
    "\n",
    "Модели нужно обучить на задаче перевода с английского на русский. "
   ]
  },
  {
   "cell_type": "markdown",
   "id": "f39807c5",
   "metadata": {},
   "source": [
    "### Обучение Seq2seq Transformer модель(25 баллов)\n",
    "\n",
    "Реализуйте Seq2seq Transformer. В качестве блока трансформера можно использовать https://pytorch.org/docs/stable/generated/torch.nn.Transformer.html. В качестве токенизатора воспользуйтесь HuggingFace токенизатор для source/target языков - https://huggingface.co/docs/transformers/fast_tokenizers\n",
    "В качестве максимальной длинны возьмите предложения длинной **до 15 слов**, без каких либо префиксов. \n",
    "\n",
    "Не забудьте остальные элементы модели:\n",
    "* Мы можем использовать 1 трансформер как энкодер - декодером будет выступать линейный слой. \n",
    "* Обучите свой BPE токенизатор - https://huggingface.co/docs/transformers/fast_tokenizers\n",
    "* Матрицу эмбеддингов токенов\n",
    "* Матрицу позицонных эмбеддингов\n",
    "* Линейный слой проекции в target словарь\n",
    "* Функцию маскирования будущих состояний attention, так как модель авто-регрессионна\n",
    "* Learning rate schedualer\n",
    "\n",
    "\n",
    "В качестве результатов, приложите слудующие данные:\n",
    "1) Параметры обучения - learning rate, batch_size, epoch_num, размерность скрытого слоя, количетсво слоев\n",
    "2) Графики обучения - train loss, val loss, bleu score\n",
    "3) Примеры переводов вашей модели(10 штук) - source text, true target text, predicted target text"
   ]
  },
  {
   "cell_type": "code",
   "execution_count": null,
   "id": "710e84de-f7a4-46da-a611-74c90a67e24b",
   "metadata": {},
   "outputs": [],
   "source": [
    "# !wget https://www.manythings.org/anki/rus-eng.zip && unzip rus-eng.zip\n",
    "# !pip install tokenizers"
   ]
  },
  {
   "cell_type": "code",
   "execution_count": 13,
   "id": "915853c0",
   "metadata": {},
   "outputs": [],
   "source": [
    "import sys\n",
    "sys.path.insert(0, '/ssd/r.musaev/DL_sber_hw/pytorch-machine-translation/src')"
   ]
  },
  {
   "cell_type": "code",
   "execution_count": 20,
   "id": "6d896f20",
   "metadata": {},
   "outputs": [],
   "source": [
    "import torch\n",
    "import numpy as np\n",
    "import random\n",
    "import torch.nn as nn\n",
    "import yaml\n",
    "from src.data.datamodule import DataManager\n",
    "from src.txt_logger import TXTLogger\n",
    "%reload_ext autoreload\n",
    "%autoreload 2\n",
    "from src.models.seq2seq_transformer import Seq2SeqTransformer\n",
    "from src.models import trainer"
   ]
  },
  {
   "cell_type": "markdown",
   "id": "19ce305f",
   "metadata": {},
   "source": [
    "## fix seed and define boilerplate"
   ]
  },
  {
   "cell_type": "code",
   "execution_count": 21,
   "id": "f6f8767e",
   "metadata": {},
   "outputs": [],
   "source": [
    "def seed_everything(seed: int):    \n",
    "    random.seed(seed)\n",
    "    os.environ['PYTHONHASHSEED'] = str(seed)\n",
    "    np.random.seed(seed)\n",
    "    torch.manual_seed(seed)\n",
    "    torch.cuda.manual_seed(seed)\n",
    "    torch.backends.cudnn.deterministic = True\n",
    "    torch.backends.cudnn.benchmark = True\n",
    "\n",
    "seed_everything(42)\n",
    "device = torch.device('cuda' if torch.cuda.is_available() else 'cpu')\n",
    "logger = TXTLogger(\"baseline\")"
   ]
  },
  {
   "cell_type": "markdown",
   "id": "5911c589",
   "metadata": {},
   "source": [
    "## prepare data"
   ]
  },
  {
   "cell_type": "code",
   "execution_count": 22,
   "id": "a9341bef",
   "metadata": {},
   "outputs": [
    {
     "name": "stderr",
     "output_type": "stream",
     "text": [
      "Reading from file: 100%|██████████| 467119/467119 [00:05<00:00, 85871.07it/s]\n"
     ]
    },
    {
     "name": "stdout",
     "output_type": "stream",
     "text": [
      "\n",
      "\n",
      "\n",
      "\n",
      "\n",
      "\n"
     ]
    }
   ],
   "source": [
    "with open(\"configs/data_config.yaml\", \"r\") as fread:\n",
    "    data_config = yaml.load(fread, Loader=yaml.Loader)\n",
    "\n",
    "data_manager = DataManager(data_config, device)\n",
    "train_dataloader, val_dataloader = data_manager.prepare_data()\n",
    "target_tokenizer = data_manager.target_tokenizer\n"
   ]
  },
  {
   "cell_type": "markdown",
   "id": "d232dae0",
   "metadata": {},
   "source": [
    "## prepare model"
   ]
  },
  {
   "cell_type": "code",
   "execution_count": 23,
   "id": "4c544aa1",
   "metadata": {},
   "outputs": [
    {
     "name": "stdout",
     "output_type": "stream",
     "text": [
      "4313 2703\n"
     ]
    }
   ],
   "source": [
    "with open(\"configs/model_config.yaml\", \"r\") as fread:\n",
    "    model_config = yaml.load(fread, Loader=yaml.Loader)\n",
    "\n",
    "model_config[\"src_vocab_size\"] = data_manager.source_tokenizer.tokenizer.get_vocab_size()\n",
    "model_config[\"tgt_vocab_size\"] = data_manager.target_tokenizer.tokenizer.get_vocab_size()\n",
    "model_config[\"T_max\"] = model_config[\"epoch_num\"] * len(train_dataloader)\n",
    "model_config[\"device\"] = device \n",
    "\n",
    "print(model_config[\"tgt_vocab_size\"], model_config[\"src_vocab_size\"])\n",
    "\n",
    "model = Seq2SeqTransformer(model_config, target_tokenizer.word2index).to(device)"
   ]
  },
  {
   "cell_type": "code",
   "execution_count": 24,
   "id": "b49b19b1",
   "metadata": {},
   "outputs": [
    {
     "name": "stderr",
     "output_type": "stream",
     "text": [
      " 17%|█▋        | 101/600 [02:02<10:07,  1.22s/it]"
     ]
    },
    {
     "name": "stdout",
     "output_type": "stream",
     "text": [
      "Last 101 epoch train loss:  0.016536186449229717\n",
      "Last 101 epoch val loss:  2.2404410243034363\n",
      "Last 101 epoch val bleu:  0.0\n"
     ]
    },
    {
     "name": "stderr",
     "output_type": "stream",
     "text": [
      "\n"
     ]
    }
   ],
   "source": [
    "trainer_cls = trainer.Trainer(\n",
    "    model=model,\n",
    "    model_config=model_config,\n",
    "    logger=logger,\n",
    "    target_tokenizer=target_tokenizer\n",
    ")\n",
    "\n",
    "trainer_cls.train(train_dataloader, val_dataloader)"
   ]
  },
  {
   "cell_type": "markdown",
   "id": "59b015b2",
   "metadata": {},
   "source": [
    "## plot training progress"
   ]
  },
  {
   "cell_type": "code",
   "execution_count": 25,
   "id": "ac5df1af",
   "metadata": {},
   "outputs": [
    {
     "name": "stderr",
     "output_type": "stream",
     "text": [
      "/ssd/r.musaev/python/miniconda3/envs/new_base/lib/python3.8/site-packages/seaborn/_decorators.py:36: FutureWarning: Pass the following variables as keyword args: x, y. From version 0.12, the only valid positional argument will be `data`, and passing other arguments without an explicit keyword will result in an error or misinterpretation.\n",
      "  warnings.warn(\n",
      "/ssd/r.musaev/python/miniconda3/envs/new_base/lib/python3.8/site-packages/seaborn/_decorators.py:36: FutureWarning: Pass the following variables as keyword args: x, y. From version 0.12, the only valid positional argument will be `data`, and passing other arguments without an explicit keyword will result in an error or misinterpretation.\n",
      "  warnings.warn(\n",
      "/ssd/r.musaev/python/miniconda3/envs/new_base/lib/python3.8/site-packages/seaborn/_decorators.py:36: FutureWarning: Pass the following variables as keyword args: x, y. From version 0.12, the only valid positional argument will be `data`, and passing other arguments without an explicit keyword will result in an error or misinterpretation.\n",
      "  warnings.warn(\n"
     ]
    },
    {
     "data": {
      "text/plain": [
       "<matplotlib.legend.Legend at 0x7f465391b490>"
      ]
     },
     "execution_count": 25,
     "metadata": {},
     "output_type": "execute_result"
    },
    {
     "data": {
      "image/png": "[encoded data removed]",
      "text/plain": [
       "<Figure size 960x640 with 1 Axes>"
      ]
     },
     "metadata": {},
     "output_type": "display_data"
    }
   ],
   "source": [
    "import seaborn as sns\n",
    "import matplotlib.pyplot as plt\n",
    "import ast\n",
    "\n",
    "with open(\"./baseline/progress_log.txt\", 'r') as fread:\n",
    "    stats = fread.readlines()\n",
    "sns.lineplot\n",
    "val_loss, train_loss, bleu_score = [], [], []\n",
    "for i in range(1, len(stats)):\n",
    "    stats[i] = ast.literal_eval(stats[i])\n",
    "    val_loss.append(stats[i]['val_loss'])\n",
    "    train_loss.append(stats[i]['train_loss'])\n",
    "    bleu_score.append(stats[i]['bleu_score'])\n",
    "\n",
    "\n",
    "sns.set_theme()\n",
    "plt.figure(figsize=(12, 8), dpi=80)\n",
    "sns.lineplot(np.arange(len(val_loss)), val_loss, label='val_loss')\n",
    "sns.lineplot(np.arange(len(train_loss)), train_loss, label='train_loss')\n",
    "sns.lineplot(np.arange(len(bleu_score)), bleu_score, label='bleu_score')\n",
    "plt.xlabel('epoch')\n",
    "plt.title('Neural machine translation. Training progress')\n",
    "plt.legend()"
   ]
  },
  {
   "cell_type": "markdown",
   "id": "262c302b",
   "metadata": {},
   "source": [
    "## generate examples of translation"
   ]
  },
  {
   "cell_type": "code",
   "execution_count": 26,
   "id": "7a7ce070-1e45-47ac-a07a-c36b6baa114e",
   "metadata": {},
   "outputs": [
    {
     "name": "stdout",
     "output_type": "stream",
     "text": [
      "1.\tEN: he is still dependent on his parents\n",
      "\tRU: он все еще зависит от своих родителей\n",
      "\tPRED: будущем будущем что что что что что что что что что что что что что\n",
      "2.\tEN: he is older than she is by three years\n",
      "\tRU: он старше её на три года\n",
      "\tPRED: французскому чемпионка чемпионка чемпионка курса подозрений дежурит дежурит дежурит усер плохое животное ция крайности крайности\n",
      "3.\tEN: she s suffering from a serious dis ease\n",
      "\tRU: она страдает из за тяж ё ло го за боле вания\n",
      "\tPRED: ведь ведь большой большой большой большой большой большой большой большой большой большой большой большой большой\n",
      "4.\tEN: she s always finding fault with me\n",
      "\tRU: она постоянно ко мне придирается\n",
      "\tPRED: потерял делу пишет пишет пишет пишет пишет пишет пишет пишет пишет пишет пишет пишет пишет\n",
      "5.\tEN: he is always complaining about his low salary\n",
      "\tRU: он всегда жалуется на свою ни з ку ю за р пла ту\n",
      "\tPRED: забыла забыла говорят выгля бегунья бегунья нет нет нет нет нет нет нет нет нет\n",
      "6.\tEN: he is without qu est ion the best man for the job\n",
      "\tRU: несомненно он лучше всех подходит для этой работы\n",
      "\tPRED: эти застенчив застенчив застенчив застенчив учится учится учится молод молод пацифист мертв мертв мертв умер\n",
      "7.\tEN: she is very popular among the students\n",
      "\tRU: она очень популя рна среди студентов\n",
      "\tPRED: лестнице лестнице лестнице лестнице ныне ныне моложе моложе моложе петь белый белый белый белый белый\n",
      "8.\tEN: he is strong brave and above all kind\n",
      "\tRU: он сильный храбрый и что ва ж ней всего добрый\n",
      "\tPRED: мёртв отсутствует бедствует лиса лиса одного вредной ещё ещё ещё ещё ещё ещё ещё ещё\n",
      "9.\tEN: she s so gu ll i ble she ll be lie ve anything you tell\n",
      "\tRU: она такая довер чи вая что пове рит всему что вы ей ска ж ете\n",
      "\tPRED: ведь ведь большой большой большой большой большой поладить поладить оч мальчик мальчик мальчик мальчик мальчик\n",
      "10.\tEN: he is older than you by eight years\n",
      "\tRU: он на восемь лет старше тебя\n",
      "\tPRED: изучением изучением изучением ленивый ленивый ленивый домашнюю домашнюю домашнюю домашнюю домашнюю дня дня дня ровный\n"
     ]
    }
   ],
   "source": [
    "tmp_batch = next(iter(val_dataloader))\n",
    "inp, tgt = tmp_batch[0][:10], tmp_batch[1][:10]\n",
    "model.eval()\n",
    "with torch.no_grad():\n",
    "    out = model.generate(inp)\n",
    "out.shape\n",
    "\n",
    "for i in range(10):\n",
    "    src_decoded = \" \".join(data_manager.source_tokenizer.decode(inp[i].cpu().numpy().tolist()))\n",
    "    out_decoded = \" \".join(data_manager.target_tokenizer.decode(out[i].cpu().numpy().tolist()))\n",
    "    tgt_decoded = \" \".join(data_manager.target_tokenizer.decode(tgt[i].cpu().numpy().tolist()))\n",
    "    print(f\"{1 + i}.\\tEN: {src_decoded}\\n\\tRU: {tgt_decoded}\\n\\tPRED: {out_decoded}\")"
   ]
  },
  {
   "cell_type": "markdown",
   "id": "245297ae-d62b-4227-9312-ccff5a1c13c9",
   "metadata": {},
   "source": [
    "### Fine-tune pretrained T5 (25 баллов)\n",
    "\n",
    "Реализуйте Seq2seq Pretrained T5. Воспользуйтесь https://huggingface.co/docs/transformers/model_doc/t5 предобученной моделью. В качестве максимальной длинны возьмите предложения длинной **до 15 слов**, без каких либо префиксов. Архитектура модели(количетсво слоев, размерность и тд) остается на ваш выбор.\n",
    "\n",
    "Не забудьте важные аспекты обучения модели:\n",
    "* Взять готовый t5 токенизатор\n",
    "* Resize matrix embedding - скорей всего ваша матрица эмбеддингов не будет включать эмбеддинги из вашего сета. Пример обновления матрицы эмбеддингов тут тут https://github.com/runnerup96/Transformers-Tuning/blob/main/t5_encoder_decoder.py\n",
    "* Learning rate schedualer/Adafactor with constant learning rate\n",
    "\n",
    "\n",
    "В качестве результатов, приложите слудующие данные:\n",
    "1) Параметры обучения - learning rate, batch_size, epoch_num, pretrained model name\n",
    "2) Графики обучения - train loss, val loss, bleu score\n",
    "3) Примеры переводов вашей модели(10 штук) - source text, true target text, predicted target text"
   ]
  },
  {
   "cell_type": "code",
   "execution_count": null,
   "id": "5993bdc9-44f6-4af8-8e46-36d4e6824ca4",
   "metadata": {},
   "outputs": [],
   "source": [
    "from transformers import T5Tokenizer, T5ForConditionalGeneration\n",
    "\n",
    "tokenizer = T5Tokenizer.from_pretrained(\"t5-small\")\n",
    "model = T5ForConditionalGeneration.from_pretrained(\"t5-small\")\n",
    "\n",
    "input_ids = tokenizer(\"The <extra_id_0> walks in <extra_id_1> park\", return_tensors=\"pt\").input_ids\n",
    "labels = tokenizer(\"<extra_id_0> cute dog <extra_id_1> the <extra_id_2>\", return_tensors=\"pt\").input_ids\n",
    "\n",
    "# the forward function automatically creates the correct decoder_input_ids\n",
    "loss = model(input_ids=input_ids, labels=labels).loss\n",
    "loss.item()"
   ]
  },
  {
   "cell_type": "code",
   "execution_count": null,
   "id": "6e5e5ac5",
   "metadata": {},
   "outputs": [],
   "source": [
    "from transformers import T5Tokenizer, T5ForConditionalGeneration\n",
    "\n",
    "tokenizer = T5Tokenizer.from_pretrained(\"t5-small\")\n",
    "model = T5ForConditionalGeneration.from_pretrained(\"t5-small\")\n",
    "\n",
    "input_ids = tokenizer(\"translate English to German: The house is wonderful.\", return_tensors=\"pt\").input_ids\n",
    "labels = tokenizer(\"Das Haus ist wunderbar.\", return_tensors=\"pt\").input_ids\n",
    "\n",
    "# the forward function automatically creates the correct decoder_input_ids\n",
    "loss = model(input_ids=input_ids, labels=labels).loss\n",
    "loss.item()"
   ]
  }
 ],
 "metadata": {
  "kernelspec": {
   "display_name": "Python 3.8.13 ('new_base')",
   "language": "python",
   "name": "python3"
  },
  "language_info": {
   "codemirror_mode": {
    "name": "ipython",
    "version": 3
   },
   "file_extension": ".py",
   "mimetype": "text/x-python",
   "name": "python",
   "nbconvert_exporter": "python",
   "pygments_lexer": "ipython3",
   "version": "3.8.13"
  },
  "vscode": {
   "interpreter": {
    "hash": "c72283d15c95b644f12e0c573b58bdbfe101875df18f2be8c637a617ecfca41f"
   }
  }
 },
 "nbformat": 4,
 "nbformat_minor": 5
}
