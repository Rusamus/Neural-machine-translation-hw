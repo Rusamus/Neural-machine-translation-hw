{
 "cells": [
  {
   "cell_type": "markdown",
   "id": "1a62d887-01aa-4980-9220-3bf28c077504",
   "metadata": {},
   "source": [
    "### Домашнее задание Transformers Training (50 баллов)"
   ]
  },
  {
   "cell_type": "markdown",
   "id": "f31d7452-febe-4d25-a9c1-005fcc26b35b",
   "metadata": {},
   "source": [
    "В этом домашнем задании требуется обучить несколько Transformer-based моделей в задаче машинного перевода. Для обучения можно воспользоваться текущим проектом, так и реализовать свой пайплайн обучения. Если будете использовать проект, теги **TODO** проекта отмечают, какие компоненты надо реализовать.\n",
    "В ноутбуке нужно только отобразить результаты обучения и выводы. Архитектура модели(количетсво слоев, размерность и тд) остается на ваш выбор.\n",
    "\n",
    "Ваш код обучения нужно выложить на ваш github, в строке ниже дать ссылку на него. В первую очередь будут оцениваться результаты в ноутбуке, код нужен для проверки адекватности результатов. \n",
    "\n",
    "Обучать модели до конца не нужно, только для демонстрации, что модель обучается и рабочая - снижение val_loss, рост bleu_score."
   ]
  },
  {
   "cell_type": "markdown",
   "id": "a691e7b9-6538-42b1-96b8-838f2efab4af",
   "metadata": {},
   "source": [
    "#### Сcылка на github с проектом - \n",
    "\n",
    "Ноутбук с результатами выкладывать на ваш **google диск** курса. "
   ]
  },
  {
   "cell_type": "markdown",
   "id": "dbca1e62-b210-4426-9854-55b652417a4b",
   "metadata": {},
   "source": [
    "### Данные\n",
    "\n",
    "`\n",
    "wget https://www.manythings.org/anki/rus-eng.zip && unzip rus-eng.zip\n",
    "`\n",
    "\n",
    "Модели нужно обучить на задаче перевода с английского на русский. "
   ]
  },
  {
   "cell_type": "markdown",
   "id": "f39807c5",
   "metadata": {},
   "source": [
    "### Обучение Seq2seq Transformer модель(25 баллов)\n",
    "\n",
    "Реализуйте Seq2seq Transformer. В качестве блока трансформера можно использовать https://pytorch.org/docs/stable/generated/torch.nn.Transformer.html. В качестве токенизатора воспользуйтесь HuggingFace токенизатор для source/target языков - https://huggingface.co/docs/transformers/fast_tokenizers\n",
    "В качестве максимальной длинны возьмите предложения длинной **до 15 слов**, без каких либо префиксов. \n",
    "\n",
    "Не забудьте остальные элементы модели:\n",
    "* Мы можем использовать 1 трансформер как энкодер - декодером будет выступать линейный слой. \n",
    "* Обучите свой BPE токенизатор - https://huggingface.co/docs/transformers/fast_tokenizers\n",
    "* Матрицу эмбеддингов токенов\n",
    "* Матрицу позицонных эмбеддингов\n",
    "* Линейный слой проекции в target словарь\n",
    "* Функцию маскирования будущих состояний attention, так как модель авто-регрессионна\n",
    "* Learning rate schedualer\n",
    "\n",
    "\n",
    "В качестве результатов, приложите слудующие данные:\n",
    "1) Параметры обучения - learning rate, batch_size, epoch_num, размерность скрытого слоя, количетсво слоев\n",
    "2) Графики обучения - train loss, val loss, bleu score\n",
    "3) Примеры переводов вашей модели(10 штук) - source text, true target text, predicted target text"
   ]
  },
  {
   "cell_type": "code",
   "execution_count": 21,
   "id": "915853c0",
   "metadata": {},
   "outputs": [],
   "source": [
    "import sys\n",
    "sys.path.insert(0, '/ssd/r.musaev/DL_sber_hw/pytorch-machine-translation/src')"
   ]
  },
  {
   "cell_type": "code",
   "execution_count": 22,
   "id": "6d896f20",
   "metadata": {},
   "outputs": [],
   "source": [
    "import torch\n",
    "import numpy as np\n",
    "import random\n",
    "import torch.nn as nn\n",
    "import yaml\n",
    "from src.data.datamodule import DataManager\n",
    "from src.txt_logger import TXTLogger\n",
    "%reload_ext autoreload\n",
    "%autoreload 2\n",
    "from src.models.seq2seq_transformer import Seq2SeqTransformer\n",
    "from src.models import trainer"
   ]
  },
  {
   "cell_type": "markdown",
   "id": "19ce305f",
   "metadata": {},
   "source": [
    "## freeze seed & define boilerplate"
   ]
  },
  {
   "cell_type": "code",
   "execution_count": 23,
   "id": "f6f8767e",
   "metadata": {},
   "outputs": [],
   "source": [
    "def seed_everything(seed: int):    \n",
    "    random.seed(seed)\n",
    "    os.environ['PYTHONHASHSEED'] = str(seed)\n",
    "    np.random.seed(seed)\n",
    "    torch.manual_seed(seed)\n",
    "    torch.cuda.manual_seed(seed)\n",
    "    torch.backends.cudnn.deterministic = True\n",
    "    torch.backends.cudnn.benchmark = True\n",
    "\n",
    "seed_everything(42)\n",
    "device = torch.device('cuda' if torch.cuda.is_available() else 'cpu')\n",
    "logger = TXTLogger(\"baseline\")"
   ]
  },
  {
   "cell_type": "markdown",
   "id": "5911c589",
   "metadata": {},
   "source": [
    "## prepare data"
   ]
  },
  {
   "cell_type": "code",
   "execution_count": 24,
   "id": "a9341bef",
   "metadata": {},
   "outputs": [
    {
     "name": "stderr",
     "output_type": "stream",
     "text": [
      "Reading from file: 100%|██████████| 467119/467119 [00:05<00:00, 81908.86it/s]\n"
     ]
    },
    {
     "name": "stdout",
     "output_type": "stream",
     "text": [
      "\n",
      "\n",
      "\n",
      "\n",
      "\n",
      "\n"
     ]
    }
   ],
   "source": [
    "with open(\"configs/data_config.yaml\", \"r\") as fread:\n",
    "    data_config = yaml.load(fread, Loader=yaml.Loader)\n",
    "\n",
    "data_manager = DataManager(data_config, device)\n",
    "train_dataloader, val_dataloader = data_manager.prepare_data()\n",
    "target_tokenizer = data_manager.target_tokenizer\n"
   ]
  },
  {
   "cell_type": "markdown",
   "id": "d232dae0",
   "metadata": {},
   "source": [
    "## prepare model"
   ]
  },
  {
   "cell_type": "code",
   "execution_count": 25,
   "id": "4c544aa1",
   "metadata": {},
   "outputs": [
    {
     "name": "stdout",
     "output_type": "stream",
     "text": [
      "4313 2703\n"
     ]
    }
   ],
   "source": [
    "with open(\"configs/model_config.yaml\", \"r\") as fread:\n",
    "    model_config = yaml.load(fread, Loader=yaml.Loader)\n",
    "\n",
    "model_config[\"src_vocab_size\"] = data_manager.source_tokenizer.tokenizer.get_vocab_size()\n",
    "model_config[\"tgt_vocab_size\"] = data_manager.target_tokenizer.tokenizer.get_vocab_size()\n",
    "model_config[\"T_max\"] = model_config[\"epoch_num\"] * len(train_dataloader)\n",
    "model_config[\"device\"] = device \n",
    "model = Seq2SeqTransformer(model_config, target_tokenizer.word2index).to(device)"
   ]
  },
  {
   "cell_type": "code",
   "execution_count": 30,
   "id": "d35b25a5",
   "metadata": {},
   "outputs": [
    {
     "data": {
      "text/plain": [
       "{'embedding_size': 100,\n",
       " 'hidden_size': 100,\n",
       " 'epoch_num': 600,\n",
       " 'try_one_batch': True,\n",
       " 'nhead': 4,\n",
       " 'num_encoder_layers': 4,\n",
       " 'lr': 0.0005,\n",
       " 'weight_decay': 0.0005,\n",
       " 'maxlen': 15,\n",
       " 'src_vocab_size': 2703,\n",
       " 'tgt_vocab_size': 4313,\n",
       " 'T_max': 10200,\n",
       " 'device': device(type='cuda')}"
      ]
     },
     "execution_count": 30,
     "metadata": {},
     "output_type": "execute_result"
    }
   ],
   "source": [
    "model_config"
   ]
  },
  {
   "cell_type": "code",
   "execution_count": 26,
   "id": "b49b19b1",
   "metadata": {},
   "outputs": [
    {
     "name": "stderr",
     "output_type": "stream",
     "text": [
      " 14%|█▍        | 86/600 [01:44<10:25,  1.22s/it]"
     ]
    },
    {
     "name": "stdout",
     "output_type": "stream",
     "text": [
      "Last 86 epoch train loss:  0.0662908861413598\n",
      "Last 86 epoch val loss:  2.2273885011672974\n",
      "Last 86 epoch val bleu:  0.0\n"
     ]
    },
    {
     "name": "stderr",
     "output_type": "stream",
     "text": [
      "\n"
     ]
    }
   ],
   "source": [
    "trainer_cls = trainer.Trainer(\n",
    "    model=model,\n",
    "    model_config=model_config,\n",
    "    logger=logger,\n",
    "    target_tokenizer=target_tokenizer\n",
    ")\n",
    "\n",
    "trainer_cls.train(train_dataloader, val_dataloader)"
   ]
  },
  {
   "cell_type": "markdown",
   "id": "59b015b2",
   "metadata": {},
   "source": [
    "## plot training progress"
   ]
  },
  {
   "cell_type": "code",
   "execution_count": 29,
   "id": "ac5df1af",
   "metadata": {},
   "outputs": [
    {
     "data": {
      "image/png": "[encoded data removed]",
      "text/plain": [
       "<Figure size 960x640 with 1 Axes>"
      ]
     },
     "metadata": {},
     "output_type": "display_data"
    }
   ],
   "source": [
    "import warnings\n",
    "warnings.filterwarnings(\"ignore\")\n",
    "\n",
    "import seaborn as sns\n",
    "import matplotlib.pyplot as plt\n",
    "import ast\n",
    "\n",
    "with open(\"./baseline/progress_log.txt\", 'r') as fread:\n",
    "    stats = fread.readlines()\n",
    "sns.lineplot\n",
    "val_loss, train_loss, bleu_score = [], [], []\n",
    "for i in range(1, len(stats)):\n",
    "    stats[i] = ast.literal_eval(stats[i])\n",
    "    val_loss.append(stats[i]['val_loss'])\n",
    "    train_loss.append(stats[i]['train_loss'])\n",
    "    bleu_score.append(stats[i]['bleu_score'])\n",
    "\n",
    "\n",
    "sns.set_theme()\n",
    "plt.figure(figsize=(12, 8), dpi=80)\n",
    "sns.lineplot(np.arange(len(val_loss)), val_loss, label='val_loss')\n",
    "sns.lineplot(np.arange(len(train_loss)), train_loss, label='train_loss')\n",
    "sns.lineplot(np.arange(len(bleu_score)), bleu_score, label='bleu_score')\n",
    "plt.xlabel('epoch')\n",
    "plt.title('Neural machine translation. Training progress')\n",
    "plt.legend();"
   ]
  },
  {
   "cell_type": "markdown",
   "id": "262c302b",
   "metadata": {},
   "source": [
    "## generate examples of translation"
   ]
  },
  {
   "cell_type": "code",
   "execution_count": 34,
   "id": "7a7ce070-1e45-47ac-a07a-c36b6baa114e",
   "metadata": {},
   "outputs": [
    {
     "name": "stdout",
     "output_type": "stream",
     "text": [
      "EN: he is the last man that i want to talk with\n",
      "RU: он последний человек с кем я хочу разговаривать\n",
      "PRED: приземлённый тот тот тот тот тот тот тот тот тот тот тот тот тот отеле\n",
      ">>>>>>>>>\n",
      "EN: he is the tallest person in the world\n",
      "RU: он самый высокий человек в мире\n",
      "PRED: коми отлично отлично отлично отлично отлично отлично отлично отлично отлично отлично отлично отлично отлично отлично\n",
      ">>>>>>>>>\n",
      "EN: he is the most obstinate child i have ever se en\n",
      "RU: это самый упря м ый ребёнок ка кого я когда либо ви дел\n",
      "PRED: дружелюбный результате письмо храбрый храбрый храбрый храбрый ведь ленивый целом целом ём спичка спичка регает\n",
      ">>>>>>>>>\n",
      "EN: she s young enough to be your daughter\n",
      "RU: она достаточно молода чтобы го дить ся тебе в доче ри\n",
      "PRED: удивится ума ума ума ума ума ума ума ума ума ума ума ума ума ума\n",
      ">>>>>>>>>\n",
      "EN: he is making great progress in english\n",
      "RU: он делает большие успехи в английском\n",
      "PRED: своём своём своём своём своём своём своём красоты красоты момент казнь казнь глупа вероятно вероятно\n",
      ">>>>>>>>>\n",
      "EN: he is late le t s wait for him t ill\n",
      "RU: он опаздывает да ва й те подо ж д ем его до\n",
      "PRED: работы работы леет доктор прирождённый вне вне вне вне вне вне вне вне вне вне\n",
      ">>>>>>>>>\n",
      "EN: he is clever enough to so l ve the pro ble m\n",
      "RU: он достаточно умён чтобы ре ш ить проб л ему\n",
      "PRED: мокрый мокрый разыскивает разыскивает случаются человеком человеком человеком должно его его его его его его\n",
      ">>>>>>>>>\n",
      "EN: he is absorbed in the study of linguist ics\n",
      "RU: он погру зи лся в изучени е язы ко зна ния\n",
      "PRED: результате признанный можно запускать только только только только только только голосовать голосовать голосовать голосовать беспокоится\n",
      ">>>>>>>>>\n",
      "EN: he is not so stupid as to be unable to tell right from wrong\n",
      "RU: он не настолько глуп чтобы не раз ли ча ть что пра ви льно а\n",
      "PRED: сильно путешествовать тела тела тела тела владельцем застрахован застрахован решил моя моя моя моя нём\n",
      ">>>>>>>>>\n",
      "EN: he is now almost as tall as his father\n",
      "RU: он сейчас почти такого же роста как его отец\n",
      "PRED: поправляется поправляется поправляется таких общителен общителен гает по по по глаз глаз венгр лучше лучше\n",
      ">>>>>>>>>\n"
     ]
    }
   ],
   "source": [
    "tmp_batch = next(iter(val_dataloader))\n",
    "inp, tgt = tmp_batch[0][:10], tmp_batch[1][:10]\n",
    "model.eval()\n",
    "with torch.no_grad():\n",
    "    out = model.generate(inp)\n",
    "\n",
    "for i in range(10):\n",
    "    src_decoded = \" \".join(data_manager.source_tokenizer.decode(inp[i].cpu().numpy().tolist()))\n",
    "    out_decoded = \" \".join(data_manager.target_tokenizer.decode(out[i].cpu().numpy().tolist()))\n",
    "    tgt_decoded = \" \".join(data_manager.target_tokenizer.decode(tgt[i].cpu().numpy().tolist()))\n",
    "    print(f\"EN: {src_decoded}\\nRU: {tgt_decoded}\\nPRED: {out_decoded}\")\n",
    "    print('>>>>>>>>>')"
   ]
  },
  {
   "cell_type": "markdown",
   "id": "245297ae-d62b-4227-9312-ccff5a1c13c9",
   "metadata": {},
   "source": [
    "### Fine-tune pretrained T5 (25 баллов)\n",
    "\n",
    "Реализуйте Seq2seq Pretrained T5. Воспользуйтесь https://huggingface.co/docs/transformers/model_doc/t5 предобученной моделью. В качестве максимальной длинны возьмите предложения длинной **до 15 слов**, без каких либо префиксов. Архитектура модели(количетсво слоев, размерность и тд) остается на ваш выбор.\n",
    "\n",
    "Не забудьте важные аспекты обучения модели:\n",
    "* Взять готовый t5 токенизатор\n",
    "* Resize matrix embedding - скорей всего ваша матрица эмбеддингов не будет включать эмбеддинги из вашего сета. Пример обновления матрицы эмбеддингов тут тут https://github.com/runnerup96/Transformers-Tuning/blob/main/t5_encoder_decoder.py\n",
    "* Learning rate schedualer/Adafactor with constant learning rate\n",
    "\n",
    "\n",
    "В качестве результатов, приложите слудующие данные:\n",
    "1) Параметры обучения - learning rate, batch_size, epoch_num, pretrained model name\n",
    "2) Графики обучения - train loss, val loss, bleu score\n",
    "3) Примеры переводов вашей модели(10 штук) - source text, true target text, predicted target text"
   ]
  },
  {
   "cell_type": "code",
   "execution_count": null,
   "id": "5993bdc9-44f6-4af8-8e46-36d4e6824ca4",
   "metadata": {},
   "outputs": [],
   "source": [
    "from transformers import T5Tokenizer, T5ForConditionalGeneration\n",
    "\n",
    "tokenizer = T5Tokenizer.from_pretrained(\"t5-small\")\n",
    "model = T5ForConditionalGeneration.from_pretrained(\"t5-small\")\n",
    "\n",
    "input_ids = tokenizer(\"The <extra_id_0> walks in <extra_id_1> park\", return_tensors=\"pt\").input_ids\n",
    "labels = tokenizer(\"<extra_id_0> cute dog <extra_id_1> the <extra_id_2>\", return_tensors=\"pt\").input_ids\n",
    "\n",
    "# the forward function automatically creates the correct decoder_input_ids\n",
    "loss = model(input_ids=input_ids, labels=labels).loss\n",
    "loss.item()"
   ]
  },
  {
   "cell_type": "code",
   "execution_count": null,
   "id": "6e5e5ac5",
   "metadata": {},
   "outputs": [],
   "source": [
    "from transformers import T5Tokenizer, T5ForConditionalGeneration\n",
    "\n",
    "tokenizer = T5Tokenizer.from_pretrained(\"t5-small\")\n",
    "model = T5ForConditionalGeneration.from_pretrained(\"t5-small\")\n",
    "\n",
    "input_ids = tokenizer(\"translate English to German: The house is wonderful.\", return_tensors=\"pt\").input_ids\n",
    "labels = tokenizer(\"Das Haus ist wunderbar.\", return_tensors=\"pt\").input_ids\n",
    "\n",
    "# the forward function automatically creates the correct decoder_input_ids\n",
    "loss = model(input_ids=input_ids, labels=labels).loss\n",
    "loss.item()"
   ]
  }
 ],
 "metadata": {
  "kernelspec": {
   "display_name": "Python 3.8.13 ('new_base')",
   "language": "python",
   "name": "python3"
  },
  "language_info": {
   "codemirror_mode": {
    "name": "ipython",
    "version": 3
   },
   "file_extension": ".py",
   "mimetype": "text/x-python",
   "name": "python",
   "nbconvert_exporter": "python",
   "pygments_lexer": "ipython3",
   "version": "3.8.13"
  },
  "vscode": {
   "interpreter": {
    "hash": "c72283d15c95b644f12e0c573b58bdbfe101875df18f2be8c637a617ecfca41f"
   }
  }
 },
 "nbformat": 4,
 "nbformat_minor": 5
}
