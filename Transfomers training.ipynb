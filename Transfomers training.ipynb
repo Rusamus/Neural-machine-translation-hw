{
 "cells": [
  {
   "cell_type": "markdown",
   "id": "1a62d887-01aa-4980-9220-3bf28c077504",
   "metadata": {},
   "source": [
    "### Домашнее задание Transformers Training (50 баллов)"
   ]
  },
  {
   "cell_type": "markdown",
   "id": "f31d7452-febe-4d25-a9c1-005fcc26b35b",
   "metadata": {},
   "source": [
    "В этом домашнем задании требуется обучить несколько Transformer-based моделей в задаче машинного перевода. Для обучения можно воспользоваться текущим проектом, так и реализовать свой пайплайн обучения. Если будете использовать проект, теги **TODO** проекта отмечают, какие компоненты надо реализовать.\n",
    "В ноутбуке нужно только отобразить результаты обучения и выводы. Архитектура модели(количетсво слоев, размерность и тд) остается на ваш выбор.\n",
    "\n",
    "Ваш код обучения нужно выложить на ваш github, в строке ниже дать ссылку на него. В первую очередь будут оцениваться результаты в ноутбуке, код нужен для проверки адекватности результатов. \n",
    "\n",
    "Обучать модели до конца не нужно, только для демонстрации, что модель обучается и рабочая - снижение val_loss, рост bleu_score."
   ]
  },
  {
   "cell_type": "markdown",
   "id": "a691e7b9-6538-42b1-96b8-838f2efab4af",
   "metadata": {},
   "source": [
    "#### Сcылка на github с проектом - \n",
    "\n",
    "Ноутбук с результатами выкладывать на ваш **google диск** курса. "
   ]
  },
  {
   "cell_type": "markdown",
   "id": "dbca1e62-b210-4426-9854-55b652417a4b",
   "metadata": {},
   "source": [
    "### Данные\n",
    "\n",
    "`\n",
    "wget https://www.manythings.org/anki/rus-eng.zip && unzip rus-eng.zip\n",
    "`\n",
    "\n",
    "Модели нужно обучить на задаче перевода с английского на русский. "
   ]
  },
  {
   "cell_type": "markdown",
   "id": "f39807c5",
   "metadata": {},
   "source": [
    "### Обучение Seq2seq Transformer модель(25 баллов)\n",
    "\n",
    "Реализуйте Seq2seq Transformer. В качестве блока трансформера можно использовать https://pytorch.org/docs/stable/generated/torch.nn.Transformer.html. В качестве токенизатора воспользуйтесь HuggingFace токенизатор для source/target языков - https://huggingface.co/docs/transformers/fast_tokenizers\n",
    "В качестве максимальной длинны возьмите предложения длинной **до 15 слов**, без каких либо префиксов. \n",
    "\n",
    "Не забудьте остальные элементы модели:\n",
    "* Мы можем использовать 1 трансформер как энкодер - декодером будет выступать линейный слой. \n",
    "* Обучите свой BPE токенизатор - https://huggingface.co/docs/transformers/fast_tokenizers\n",
    "* Матрицу эмбеддингов токенов\n",
    "* Матрицу позицонных эмбеддингов\n",
    "* Линейный слой проекции в target словарь\n",
    "* Функцию маскирования будущих состояний attention, так как модель авто-регрессионна\n",
    "* Learning rate schedualer\n",
    "\n",
    "\n",
    "В качестве результатов, приложите слудующие данные:\n",
    "1) Параметры обучения - learning rate, batch_size, epoch_num, размерность скрытого слоя, количетсво слоев\n",
    "2) Графики обучения - train loss, val loss, bleu score\n",
    "3) Примеры переводов вашей модели(10 штук) - source text, true target text, predicted target text"
   ]
  },
  {
   "cell_type": "code",
   "execution_count": 1,
   "id": "915853c0",
   "metadata": {},
   "outputs": [],
   "source": [
    "import sys\n",
    "sys.path.insert(0, '/ssd/r.musaev/DL_sber_hw/pytorch-machine-translation/src')"
   ]
  },
  {
   "cell_type": "code",
   "execution_count": 2,
   "id": "6d896f20",
   "metadata": {},
   "outputs": [],
   "source": [
    "import torch\n",
    "import numpy as np\n",
    "import random\n",
    "import torch.nn as nn\n",
    "import yaml\n",
    "from src.data.datamodule import DataManager\n",
    "from src.txt_logger import TXTLogger\n",
    "%reload_ext autoreload\n",
    "%autoreload 2\n",
    "from src.models.seq2seq_transformer import Seq2SeqTransformer\n",
    "from src.models import trainer"
   ]
  },
  {
   "cell_type": "markdown",
   "id": "19ce305f",
   "metadata": {},
   "source": [
    "## freeze seed & define boilerplate"
   ]
  },
  {
   "cell_type": "code",
   "execution_count": 11,
   "id": "f6f8767e",
   "metadata": {},
   "outputs": [],
   "source": [
    "def seed_everything(seed: int):    \n",
    "    random.seed(seed)\n",
    "    os.environ['PYTHONHASHSEED'] = str(seed)\n",
    "    np.random.seed(seed)\n",
    "    torch.manual_seed(seed)\n",
    "    torch.cuda.manual_seed(seed)\n",
    "    torch.backends.cudnn.deterministic = True\n",
    "    torch.backends.cudnn.benchmark = True\n",
    "\n",
    "seed_everything(42)\n",
    "device = torch.device('cuda' if torch.cuda.is_available() else 'cpu')\n",
    "logger = TXTLogger(\"baseline\")"
   ]
  },
  {
   "cell_type": "markdown",
   "id": "5911c589",
   "metadata": {},
   "source": [
    "## prepare data"
   ]
  },
  {
   "cell_type": "code",
   "execution_count": 12,
   "id": "a9341bef",
   "metadata": {},
   "outputs": [
    {
     "name": "stderr",
     "output_type": "stream",
     "text": [
      "Reading from file: 100%|██████████| 467119/467119 [00:07<00:00, 62245.82it/s]\n"
     ]
    },
    {
     "name": "stdout",
     "output_type": "stream",
     "text": [
      "\n",
      "\n",
      "\n",
      "\n",
      "\n",
      "\n"
     ]
    }
   ],
   "source": [
    "with open(\"configs/data_config.yaml\", \"r\") as fread:\n",
    "    data_config = yaml.load(fread, Loader=yaml.Loader)\n",
    "\n",
    "data_manager = DataManager(data_config, device)\n",
    "train_dataloader, val_dataloader = data_manager.prepare_data()\n",
    "target_tokenizer = data_manager.target_tokenizer\n"
   ]
  },
  {
   "cell_type": "markdown",
   "id": "d232dae0",
   "metadata": {},
   "source": [
    "## prepare model"
   ]
  },
  {
   "cell_type": "code",
   "execution_count": 13,
   "id": "4c544aa1",
   "metadata": {},
   "outputs": [],
   "source": [
    "with open(\"configs/model_config.yaml\", \"r\") as fread:\n",
    "    model_config = yaml.load(fread, Loader=yaml.Loader)\n",
    "\n",
    "model_config[\"src_vocab_size\"] = data_manager.source_tokenizer.tokenizer.get_vocab_size()\n",
    "model_config[\"tgt_vocab_size\"] = data_manager.target_tokenizer.tokenizer.get_vocab_size()\n",
    "model_config[\"T_max\"] = model_config[\"epoch_num\"] * len(train_dataloader)\n",
    "model_config[\"device\"] = device \n",
    "model = Seq2SeqTransformer(model_config, target_tokenizer.word2index).to(device)"
   ]
  },
  {
   "cell_type": "code",
   "execution_count": 14,
   "id": "d35b25a5",
   "metadata": {},
   "outputs": [
    {
     "data": {
      "text/plain": [
       "{'embedding_size': 100,\n",
       " 'hidden_size': 100,\n",
       " 'epoch_num': 100,\n",
       " 'try_one_batch': True,\n",
       " 'nhead': 4,\n",
       " 'num_encoder_layers': 4,\n",
       " 'lr': 0.0005,\n",
       " 'weight_decay': 0.0005,\n",
       " 'maxlen': 15,\n",
       " 'src_vocab_size': 2703,\n",
       " 'tgt_vocab_size': 4313,\n",
       " 'T_max': 1700,\n",
       " 'device': device(type='cuda')}"
      ]
     },
     "execution_count": 14,
     "metadata": {},
     "output_type": "execute_result"
    }
   ],
   "source": [
    "model_config"
   ]
  },
  {
   "cell_type": "code",
   "execution_count": 15,
   "id": "b49b19b1",
   "metadata": {},
   "outputs": [
    {
     "name": "stderr",
     "output_type": "stream",
     "text": [
      " 32%|███▏      | 32/100 [03:14<06:53,  6.09s/it]"
     ]
    },
    {
     "name": "stdout",
     "output_type": "stream",
     "text": [
      "Last 32 epoch train loss:  0.2122861006680657\n",
      "Last 32 epoch val loss:  2.354967713356018\n",
      "Last 32 epoch val bleu:  0.0\n"
     ]
    },
    {
     "name": "stderr",
     "output_type": "stream",
     "text": [
      "\n"
     ]
    }
   ],
   "source": [
    "trainer_cls = trainer.Trainer(\n",
    "    model=model,\n",
    "    model_config=model_config,\n",
    "    logger=logger,\n",
    "    target_tokenizer=target_tokenizer\n",
    ")\n",
    "\n",
    "trainer_cls.train(train_dataloader, val_dataloader)"
   ]
  },
  {
   "cell_type": "markdown",
   "id": "59b015b2",
   "metadata": {},
   "source": [
    "## plot training progress"
   ]
  },
  {
   "cell_type": "code",
   "execution_count": 16,
   "id": "ac5df1af",
   "metadata": {},
   "outputs": [
    {
     "data": {
      "image/png": "[encoded data removed]",
      "text/plain": [
       "<Figure size 960x640 with 1 Axes>"
      ]
     },
     "metadata": {},
     "output_type": "display_data"
    }
   ],
   "source": [
    "import warnings\n",
    "warnings.filterwarnings(\"ignore\")\n",
    "\n",
    "import seaborn as sns\n",
    "import matplotlib.pyplot as plt\n",
    "import ast\n",
    "\n",
    "with open(\"./baseline/progress_log.txt\", 'r') as fread:\n",
    "    stats = fread.readlines()\n",
    "sns.lineplot\n",
    "val_loss, train_loss, bleu_score = [], [], []\n",
    "for i in range(1, len(stats)):\n",
    "    stats[i] = ast.literal_eval(stats[i])\n",
    "    val_loss.append(stats[i]['val_loss'])\n",
    "    train_loss.append(stats[i]['train_loss'])\n",
    "    bleu_score.append(stats[i]['bleu_score'])\n",
    "\n",
    "sns.set_theme()\n",
    "plt.figure(figsize=(12, 8), dpi=80)\n",
    "sns.lineplot(np.arange(len(val_loss)), val_loss, label='val_loss')\n",
    "sns.lineplot(np.arange(len(train_loss)), train_loss, label='train_loss')\n",
    "sns.lineplot(np.arange(len(bleu_score)), bleu_score, label='bleu_score')\n",
    "plt.xlabel('epoch')\n",
    "plt.title('Neural machine translation. Training progress')\n",
    "plt.legend();"
   ]
  },
  {
   "cell_type": "markdown",
   "id": "3b899b8f",
   "metadata": {},
   "source": [
    "#### Графики обучения и валидации выходят на плато. Переобучение модели"
   ]
  },
  {
   "cell_type": "markdown",
   "id": "262c302b",
   "metadata": {},
   "source": [
    "## generate examples of translation"
   ]
  },
  {
   "cell_type": "code",
   "execution_count": 22,
   "id": "7a7ce070-1e45-47ac-a07a-c36b6baa114e",
   "metadata": {},
   "outputs": [
    {
     "name": "stdout",
     "output_type": "stream",
     "text": [
      "EN: he is an individual with his own living sp ac e and his own sleeping\n",
      "RU: он су ще ство с собствен ным жиз н ен ным про стра н ством\n",
      "PRED: младшая рада тянет старикам только школу большой навестит умна убьёт супермодель моего наго прячется плане\n",
      ">>>>>>>>>\n",
      "EN: he s not always at home on sundays\n",
      "RU: он не всегда дома по воскресеньям\n",
      "PRED: правду ужасном большой деревни смелая нехороший автобуса дышать сыном сыном здесь юм вось ней ней\n",
      ">>>>>>>>>\n",
      "EN: she s busy now and can t speak to you\n",
      "RU: она сейчас занята и не может с вами разговаривать\n",
      "PRED: работы школу нём школу школу тот старой больна говорит образованная футболист щедр меня меня меня\n",
      ">>>>>>>>>\n",
      "EN: he is saving money for a trip abroad\n",
      "RU: он от кла дывает деньги на поез д ку за границу\n",
      "PRED: убьёт практики того того того дю школу я я я под под под брюзга пожалеет\n",
      ">>>>>>>>>\n",
      "EN: he is content with his present state\n",
      "RU: его у стра и вает его те ку ще е поло жен ие\n",
      "PRED: свободно истеричная делает отеле шкафу взглядов храбрый плохое труда понемногу обычная похудеть женщина женщина женщина\n",
      ">>>>>>>>>\n",
      "EN: he s the most valuable player on our team\n",
      "RU: он самый цен ный игрок нашей команды\n",
      "PRED: пока разбой совер рави настроение бога погружён продавец сестра сестра сестра сестра сестра сестра сестра\n",
      ">>>>>>>>>\n",
      "EN: she s always finding fault with me\n",
      "RU: она постоянно ко мне придирается\n",
      "PRED: рост йс исследования знаменит письмо своей своей плохой плохой картину чест работник анец среди большее\n",
      ">>>>>>>>>\n",
      "EN: he is always s ay ing bad things about other s\n",
      "RU: он всегда говорит плохое о дру ги х лю дя х\n",
      "PRED: головной слон сла рмен постоянно знаменита пьян восемь предательство вечером втором смысла есть критике ждена\n",
      ">>>>>>>>>\n",
      "EN: she is used to staying up all night\n",
      "RU: она привыкла не с па ть всю ночь\n",
      "PRED: богатая этой этой этой этой этой этой этой этой этой этой моих вели нулся скупой\n",
      ">>>>>>>>>\n",
      "EN: he is working hard in or der to pass the ent r ance ex am\n",
      "RU: он много тру дится чтобы с дать в ступ итель ные э к за мен\n",
      "PRED: уровня голосовать пианино вязанием целует гает парень свой наши девочка девочка девочка девочка девочка девочка\n",
      ">>>>>>>>>\n"
     ]
    }
   ],
   "source": [
    "batch = next(iter(val_dataloader))\n",
    "inp, tgt = batch[0][:10], batch[1][:10]\n",
    "model.eval()\n",
    "with torch.no_grad():\n",
    "    out = model.generate(inp)\n",
    "\n",
    "for i in range(10):\n",
    "    src_decoded = \" \".join(data_manager.source_tokenizer.decode(inp[i].cpu().numpy().tolist()))\n",
    "    out_decoded = \" \".join(data_manager.target_tokenizer.decode(out[i].cpu().numpy().tolist()))\n",
    "    tgt_decoded = \" \".join(data_manager.target_tokenizer.decode(tgt[i].cpu().numpy().tolist()))\n",
    "    print(f\"EN: {src_decoded}\\nRU: {tgt_decoded}\\nPRED: {out_decoded}\")\n",
    "    print('>>>>>>>>>')"
   ]
  },
  {
   "cell_type": "markdown",
   "id": "245297ae-d62b-4227-9312-ccff5a1c13c9",
   "metadata": {},
   "source": [
    "### Fine-tune pretrained T5 (25 баллов)\n",
    "\n",
    "Реализуйте Seq2seq Pretrained T5. Воспользуйтесь https://huggingface.co/docs/transformers/model_doc/t5 предобученной моделью. В качестве максимальной длинны возьмите предложения длинной **до 15 слов**, без каких либо префиксов. Архитектура модели(количетсво слоев, размерность и тд) остается на ваш выбор.\n",
    "\n",
    "Не забудьте важные аспекты обучения модели:\n",
    "* Взять готовый t5 токенизатор\n",
    "* Resize matrix embedding - скорей всего ваша матрица эмбеддингов не будет включать эмбеддинги из вашего сета. Пример обновления матрицы эмбеддингов тут тут https://github.com/runnerup96/Transformers-Tuning/blob/main/t5_encoder_decoder.py\n",
    "* Learning rate schedualer/Adafactor with constant learning rate\n",
    "\n",
    "\n",
    "В качестве результатов, приложите слудующие данные:\n",
    "1) Параметры обучения - learning rate, batch_size, epoch_num, pretrained model name\n",
    "2) Графики обучения - train loss, val loss, bleu score\n",
    "3) Примеры переводов вашей модели(10 штук) - source text, true target text, predicted target text"
   ]
  },
  {
   "cell_type": "code",
   "execution_count": 5,
   "id": "0d2424c9",
   "metadata": {},
   "outputs": [],
   "source": [
    "import sys\n",
    "sys.path.insert(0, '/ssd/r.musaev/DL_sber_hw/pytorch-machine-translation/src')"
   ]
  },
  {
   "cell_type": "code",
   "execution_count": 44,
   "id": "292d003b",
   "metadata": {},
   "outputs": [],
   "source": [
    "import torch\n",
    "import numpy as np\n",
    "import random\n",
    "import torch.nn as nn\n",
    "import yaml\n",
    "from src.data.datamodule import DataManager\n",
    "from src.txt_logger import TXTLogger\n",
    "%reload_ext autoreload\n",
    "%autoreload 2\n",
    "from src.models.seq2seq_t5 import Seq2SeqT5\n",
    "from src.models import trainer"
   ]
  },
  {
   "cell_type": "code",
   "execution_count": 45,
   "id": "7077cdc6",
   "metadata": {},
   "outputs": [],
   "source": [
    "def seed_everything(seed: int):    \n",
    "    random.seed(seed)\n",
    "    os.environ['PYTHONHASHSEED'] = str(seed)\n",
    "    np.random.seed(seed)\n",
    "    torch.manual_seed(seed)\n",
    "    torch.cuda.manual_seed(seed)\n",
    "    torch.backends.cudnn.deterministic = True\n",
    "    torch.backends.cudnn.benchmark = True\n",
    "\n",
    "seed_everything(42)\n",
    "device = torch.device('cuda' if torch.cuda.is_available() else 'cpu')\n",
    "logger = TXTLogger(\"baseline_t5\")\n"
   ]
  },
  {
   "cell_type": "code",
   "execution_count": 46,
   "id": "f6144efb",
   "metadata": {},
   "outputs": [
    {
     "name": "stderr",
     "output_type": "stream",
     "text": [
      "Reading from file: 100%|██████████| 467119/467119 [00:07<00:00, 62105.40it/s]\n"
     ]
    }
   ],
   "source": [
    "with open(\"configs/t5_data_config.yaml\", \"r\") as fread:\n",
    "    data_config = yaml.load(fread, Loader=yaml.Loader)\n",
    "\n",
    "data_manager = DataManager(data_config, device)\n",
    "train_dataloader, val_dataloader = data_manager.prepare_data()"
   ]
  },
  {
   "cell_type": "code",
   "execution_count": 47,
   "id": "045a15e6",
   "metadata": {},
   "outputs": [],
   "source": [
    "with open(\"configs/t5_model_config.yaml\", \"r\") as fread:\n",
    "    model_config = yaml.load(fread, Loader=yaml.Loader)\n",
    "\n",
    "model_config[\"device\"] = device \n",
    "model_config[\"tokenizer_length\"] = data_config[\"tokenizer_length\"]\n",
    "model = Seq2SeqT5(model_config).to(device)"
   ]
  },
  {
   "cell_type": "code",
   "execution_count": 48,
   "id": "221d83a4",
   "metadata": {},
   "outputs": [
    {
     "data": {
      "text/plain": [
       "{'embedding_size': 100,\n",
       " 'hidden_size': 100,\n",
       " 'epoch_num': 100,\n",
       " 'lr': 0.0003,\n",
       " 'maxlen': 15,\n",
       " 'device': device(type='cuda'),\n",
       " 'tokenizer_length': 32100}"
      ]
     },
     "execution_count": 48,
     "metadata": {},
     "output_type": "execute_result"
    }
   ],
   "source": [
    "model_config"
   ]
  },
  {
   "cell_type": "code",
   "execution_count": 49,
   "id": "6566222f",
   "metadata": {},
   "outputs": [
    {
     "name": "stderr",
     "output_type": "stream",
     "text": [
      " 22%|██▏       | 22/100 [04:00<14:12, 10.93s/it]"
     ]
    },
    {
     "name": "stdout",
     "output_type": "stream",
     "text": [
      "Last 22 epoch train loss:  23.37715482711792\n",
      "Last 22 epoch val loss:  1.5177882313728333\n",
      "Last 22 epoch val bleu:  0.0\n"
     ]
    },
    {
     "name": "stderr",
     "output_type": "stream",
     "text": [
      "\n"
     ]
    }
   ],
   "source": [
    "trainer_cls = trainer.Trainer(\n",
    "    model=model,\n",
    "    model_config=model_config,\n",
    "    logger=logger,\n",
    "    target_tokenizer=data_config[\"tokenizer\"]\n",
    "    )\n",
    "\n",
    "trainer_cls.train(train_dataloader, val_dataloader)"
   ]
  },
  {
   "cell_type": "code",
   "execution_count": 50,
   "id": "faa9e931",
   "metadata": {},
   "outputs": [
    {
     "data": {
      "image/png": "[encoded data removed]",
      "text/plain": [
       "<Figure size 960x640 with 1 Axes>"
      ]
     },
     "metadata": {},
     "output_type": "display_data"
    }
   ],
   "source": [
    "import warnings\n",
    "warnings.filterwarnings(\"ignore\")\n",
    "\n",
    "import seaborn as sns\n",
    "import matplotlib.pyplot as plt\n",
    "import ast\n",
    "\n",
    "with open(\"./baseline_t5/progress_log.txt\", 'r') as fread:\n",
    "    stats = fread.readlines()\n",
    "sns.lineplot\n",
    "val_loss, train_loss, bleu_score = [], [], []\n",
    "for i in range(1, len(stats)):\n",
    "    stats[i] = ast.literal_eval(stats[i])\n",
    "    val_loss.append(stats[i]['val_loss'])\n",
    "    train_loss.append(stats[i]['train_loss'])\n",
    "    bleu_score.append(stats[i]['bleu_score'])\n",
    "\n",
    "sns.set_theme()\n",
    "plt.figure(figsize=(12, 8), dpi=80)\n",
    "sns.lineplot(np.arange(len(val_loss)), val_loss, label='val_loss')\n",
    "sns.lineplot(np.arange(len(train_loss)), train_loss, label='train_loss')\n",
    "sns.lineplot(np.arange(len(bleu_score)), bleu_score, label='bleu_score')\n",
    "plt.xlabel('epoch')\n",
    "plt.title('Neural machine translation. Training progress')\n",
    "plt.legend();"
   ]
  },
  {
   "cell_type": "code",
   "execution_count": 51,
   "id": "86eda41a",
   "metadata": {},
   "outputs": [
    {
     "name": "stdout",
     "output_type": "stream",
     "text": [
      "EN: h e   i s   t r y i n g   t o   s t u d y   a s   h a r d   a s   h e   c a n < / s > < p a d > < p a d >\n",
      "RU: о н   < u n k >   т а е т с < u n k >   у < u n k >   и т < u n k >   с < / s >\n",
      "PRED: < p a d >   о н   < u n k >   о р о < u n k >   о   < u n k >   о р о < u n k >   о < / s > < p a d > < p a d > < p a d > < p a d >\n",
      ">>>>>>>>>\n",
      "EN: s h e   i s   n o   l e s s   b e a u t i f u l   t h a n   h e r   s i s t e r   i s < / s > < p a d > < p a d > < p a d > < p a d > < p a d >\n",
      "RU: о н а   н е   м е н е е   к р а с и в а < / s >\n",
      "PRED: < p a d >   о н а   н е   < u n k >   о л < u n k >   о < u n k >   < u n k >   е < / s > < p a d > < p a d > < p a d > < p a d >\n",
      ">>>>>>>>>\n",
      "EN: h e   i s   t h e   b l a c k   s h e e p   o f   t h e   f a m i l y < / s > < p a d > < p a d > < p a d > < p a d > < p a d >\n",
      "RU: о н   < u n k >   а р < u n k >   и в а < u n k >   о в < u n k >   а < / s >\n",
      "PRED: < p a d >   о н   < u n k >   о р о < u n k >   о   < u n k >   о < u n k >   и < u n k > < / s > < p a d > < p a d > < p a d > < p a d >\n",
      ">>>>>>>>>\n",
      "EN: h e   s   a   g r e a t   c o a c h   a n d   i s   l o v e d   b y   a l l   h i s < / s >\n",
      "RU: о н   < u n k >   а м е < u n k >   а т е л < u n k >   н < u n k >   < / s >\n",
      "PRED: < p a d >   о н   < u n k >   о р о < u n k >   и < u n k >   и   < u n k >   о < / s > < p a d > < p a d > < p a d > < p a d >\n",
      ">>>>>>>>>\n",
      "EN: h e   s   n o t   s u c h   a   g r e a t   w r i t e r   a n d   i   t h i n k < / s >\n",
      "RU: о н   н е   т а к о < u n k >   у < u n k >   и   в < / s >\n",
      "PRED: < p a d >   о н   н е   < u n k >   о р о < u n k >   о   < u n k >   о р о < u n k >   и < u n k > и\n",
      ">>>>>>>>>\n",
      "EN: h e   i s   t h e   l a s t   p e r s o n   i   w o u l d   w a n t   t o   g o   s k i i n g   w i t h < / s >\n",
      "RU: о н   < u n k >   о с л е д н и < u n k >   < u n k >   е л о в < / s >\n",
      "PRED: < p a d >   о н   < u n k >   е л о в е к   < u n k >   е л о в < / s > < p a d > < p a d > < p a d > < p a d >\n",
      ">>>>>>>>>\n",
      "EN: s h e   i s   n o   l o n g e r   w h a t   s h e   u s e d   t o   b e < / s > < p a d > < p a d > < p a d > < p a d > < p a d >\n",
      "RU: о н а   у < u n k >   е   н е   т а к а < u n k >   < / s >\n",
      "PRED: < p a d >   о н а   н е   < u n k >   о д   < u n k >   о д   < u n k >   о д < / s > < p a d > < p a d > < p a d > < p a d >\n",
      ">>>>>>>>>\n",
      "EN: h e   i s n   t   s m a r t   e n o u g h   t o   a d d   u p   n u m b e r s   i n   h i s < / s >\n",
      "RU: о н   н е д о с т а т о < u n k >   н о   у м < u n k > < / s >\n",
      "PRED: < p a d >   о н   н е   < u n k >   о р о < u n k >   о   < u n k >   о < u n k > < / s > < p a d > < p a d > < p a d > < p a d >\n",
      ">>>>>>>>>\n",
      "EN: h e   s   r e a d   t h i r t y   t h r e e   b o o k s   t h i s   y e a r < / s > < p a d > < p a d > < p a d > < p a d >\n",
      "RU: в   < u n k >   т о м   < u n k >   о д у   о н   < u n k >   р о < / s >\n",
      "PRED: < p a d >   о н   < u n k >   и < u n k >   е т   < u n k >   е л о в е к < / s > < p a d > < p a d > < p a d > < p a d >\n",
      ">>>>>>>>>\n",
      "EN: h e   i s   p r o u d   t h a t   h i s   f a t h e r   w a s   a   f a m o u s   s c i e n t i s t < / s > < p a d > < p a d >\n",
      "RU: о н   < u n k >   о р д и т с < u n k >   т е м   < u n k > < / s >\n",
      "PRED: < p a d >   о н   < u n k >   о р о < u n k >   о   < u n k >   о р о < u n k >   о < / s > < p a d > < p a d > < p a d > < p a d >\n",
      ">>>>>>>>>\n"
     ]
    }
   ],
   "source": [
    "batch = next(iter(val_dataloader))\n",
    "inp, tgt = batch[0][:10], batch[1][:10]\n",
    "model.eval()\n",
    "with torch.no_grad():\n",
    "    out = model.generate(inp)\n",
    "\n",
    "for i in range(10):\n",
    "    src_decoded = \" \".join(data_manager.source_tokenizer.decode(inp[i].cpu().numpy().tolist()))\n",
    "    out_decoded = \" \".join(data_manager.target_tokenizer.decode(out[i].cpu().numpy().tolist()))\n",
    "    tgt_decoded = \" \".join(data_manager.target_tokenizer.decode(tgt[i].cpu().numpy().tolist()))\n",
    "    print(f\"EN: {src_decoded}\\nRU: {tgt_decoded}\\nPRED: {out_decoded}\")\n",
    "    print('>>>>>>>>>')"
   ]
  },
  {
   "cell_type": "code",
   "execution_count": null,
   "id": "572dfb61",
   "metadata": {},
   "outputs": [],
   "source": []
  }
 ],
 "metadata": {
  "kernelspec": {
   "display_name": "Python 3.8.13 ('torch_2.0')",
   "language": "python",
   "name": "python3"
  },
  "language_info": {
   "codemirror_mode": {
    "name": "ipython",
    "version": 3
   },
   "file_extension": ".py",
   "mimetype": "text/x-python",
   "name": "python",
   "nbconvert_exporter": "python",
   "pygments_lexer": "ipython3",
   "version": "3.8.13"
  },
  "vscode": {
   "interpreter": {
    "hash": "acb0cf60193bb93e48c20b6a7a242212caf14c9c5faa8ed8c6f65294b17cbbe6"
   }
  }
 },
 "nbformat": 4,
 "nbformat_minor": 5
}
